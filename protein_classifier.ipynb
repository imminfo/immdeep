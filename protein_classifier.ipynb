{
 "cells": [
  {
   "cell_type": "code",
   "execution_count": 1,
   "metadata": {
    "collapsed": false
   },
   "outputs": [
    {
     "name": "stderr",
     "output_type": "stream",
     "text": [
      "Using TensorFlow backend.\n"
     ]
    }
   ],
   "source": [
    "import keras\n",
    "import pandas as pd\n",
    "import numpy as np"
   ]
  },
  {
   "cell_type": "code",
   "execution_count": 2,
   "metadata": {
    "collapsed": false
   },
   "outputs": [
    {
     "data": {
      "text/html": [
       "<div>\n",
       "<table border=\"1\" class=\"dataframe\">\n",
       "  <thead>\n",
       "    <tr style=\"text-align: right;\">\n",
       "      <th></th>\n",
       "      <th>Entry</th>\n",
       "      <th>Sequence</th>\n",
       "      <th>Protein families</th>\n",
       "    </tr>\n",
       "  </thead>\n",
       "  <tbody>\n",
       "    <tr>\n",
       "      <th>5</th>\n",
       "      <td>Q65210</td>\n",
       "      <td>MGNRLIRSYLPNTVMSIEDKQNKYNETIEDSKICNKVYIKQSGKID...</td>\n",
       "      <td>Asfivirus MGF 100 family</td>\n",
       "    </tr>\n",
       "    <tr>\n",
       "      <th>6</th>\n",
       "      <td>P0C9F7</td>\n",
       "      <td>MGNRLNGSYLSNTDMSIEDKQNKYNEAIEDCKICNKVYIKQSGKID...</td>\n",
       "      <td>Asfivirus MGF 100 family</td>\n",
       "    </tr>\n",
       "    <tr>\n",
       "      <th>9</th>\n",
       "      <td>P0C9J8</td>\n",
       "      <td>MKVFLGLLLGFSIILILTYQSPTTQHPPKEELAYWCTYAKSCDFCW...</td>\n",
       "      <td>Asfivirus MGF 110 family</td>\n",
       "    </tr>\n",
       "    <tr>\n",
       "      <th>10</th>\n",
       "      <td>P0C9J7</td>\n",
       "      <td>MKAFLGFLLLSYLAIILVHDNVNCIIFGIFDPCFYKISSKISNDYS...</td>\n",
       "      <td>Asfivirus MGF 110 family</td>\n",
       "    </tr>\n",
       "    <tr>\n",
       "      <th>11</th>\n",
       "      <td>P18560</td>\n",
       "      <td>MLGLQIFTLLSIPTLLYTYEIEPLERTSTPPEKELGYWCTYANHCR...</td>\n",
       "      <td>Asfivirus MGF 110 family</td>\n",
       "    </tr>\n",
       "  </tbody>\n",
       "</table>\n",
       "</div>"
      ],
      "text/plain": [
       "     Entry                                           Sequence  \\\n",
       "5   Q65210  MGNRLIRSYLPNTVMSIEDKQNKYNETIEDSKICNKVYIKQSGKID...   \n",
       "6   P0C9F7  MGNRLNGSYLSNTDMSIEDKQNKYNEAIEDCKICNKVYIKQSGKID...   \n",
       "9   P0C9J8  MKVFLGLLLGFSIILILTYQSPTTQHPPKEELAYWCTYAKSCDFCW...   \n",
       "10  P0C9J7  MKAFLGFLLLSYLAIILVHDNVNCIIFGIFDPCFYKISSKISNDYS...   \n",
       "11  P18560  MLGLQIFTLLSIPTLLYTYEIEPLERTSTPPEKELGYWCTYANHCR...   \n",
       "\n",
       "            Protein families  \n",
       "5   Asfivirus MGF 100 family  \n",
       "6   Asfivirus MGF 100 family  \n",
       "9   Asfivirus MGF 110 family  \n",
       "10  Asfivirus MGF 110 family  \n",
       "11  Asfivirus MGF 110 family  "
      ]
     },
     "execution_count": 2,
     "metadata": {},
     "output_type": "execute_result"
    }
   ],
   "source": [
    "raw = pd.read_csv('uniprot-all.tab', sep='\\t').dropna()\n",
    "raw.head()"
   ]
  },
  {
   "cell_type": "code",
   "execution_count": 3,
   "metadata": {
    "collapsed": false
   },
   "outputs": [
    {
     "data": {
      "text/plain": [
       "(494516, 3)"
      ]
     },
     "execution_count": 3,
     "metadata": {},
     "output_type": "execute_result"
    }
   ],
   "source": [
    "raw.shape"
   ]
  },
  {
   "cell_type": "code",
   "execution_count": 4,
   "metadata": {
    "collapsed": false
   },
   "outputs": [
    {
     "data": {
      "text/plain": [
       "Class-II aminoacyl-tRNA synthetase family                                                                              4476\n",
       "Class-I aminoacyl-tRNA synthetase family                                                                               3592\n",
       "ATPase alpha/beta chains family                                                                                        2365\n",
       "G-protein coupled receptor 1 family                                                                                    1931\n",
       "Cytochrome b family                                                                                                    1796\n",
       "Heat shock protein 70 family                                                                                           1285\n",
       "HisA/HisF family                                                                                                       1262\n",
       "MurCDEF family                                                                                                         1164\n",
       "Cytochrome P450 family                                                                                                 1154\n",
       "Ribosomal protein S4P family                                                                                           1148\n",
       "ATCase/OTCase family                                                                                                   1117\n",
       "Chaperonin (HSP60) family                                                                                              1110\n",
       "Ribosomal protein S2P family                                                                                           1094\n",
       "Ribosomal protein S7P family                                                                                           1090\n",
       "Globin family                                                                                                          1073\n",
       "Ribosomal protein L2P family                                                                                           1055\n",
       "Ribosomal protein S19P family                                                                                          1052\n",
       "Ribosomal protein L14P family                                                                                          1039\n",
       "Ribosomal protein S12P family                                                                                          1027\n",
       "TRAFAC class translation factor GTPase superfamily, Classic translation factor GTPase family, EF-Tu/EF-1A subfamily    1017\n",
       "Ribosomal protein S8P family                                                                                           1012\n",
       "Ribosomal protein L22P family                                                                                           998\n",
       "Ribosomal protein S11P family                                                                                           993\n",
       "Ribosomal protein S15P family                                                                                           989\n",
       "TRAFAC class translation factor GTPase superfamily, Classic translation factor GTPase family, EF-G/EF-2 subfamily       977\n",
       "Ribosomal protein L16P family                                                                                           973\n",
       "Ribosomal protein S3P family                                                                                            968\n",
       "RNA polymerase beta chain family                                                                                        968\n",
       "Ribosomal protein L33P family                                                                                           967\n",
       "Prokaryotic/mitochondrial release factor family                                                                         955\n",
       "                                                                                                                       ... \n",
       "Microvirus E protein family                                                                                               1\n",
       "Small GTPase superfamily                                                                                                  1\n",
       "Transposase 9 family                                                                                                      1\n",
       "Huwentoxin-1 family, CcoTx3 subfamily                                                                                     1\n",
       "Thiazole tautomerase family                                                                                               1\n",
       "Phospholipase A2 family, Group IX subfamily                                                                               1\n",
       "Heteromeric odorant receptor channel (TC 1.A.69) family                                                                   1\n",
       "AP2/ERF transcription factor family                                                                                       1\n",
       "Orthopoxviruses G3R protein family                                                                                        1\n",
       "SLC13A/DASS transporter (TC 2.A.47) family                                                                                1\n",
       "PaaX family                                                                                                               1\n",
       "Huwentoxin-1 family, GrTx subfamily                                                                                       1\n",
       "UPF0653 family                                                                                                            1\n",
       "RibF family; MnmA/TRMU family                                                                                             1\n",
       "Huwentoxin-1 family, Jztx-9 subfamily                                                                                     1\n",
       "Thiamine-phosphate synthase family; ThiC family                                                                           1\n",
       "Benzoyl-CoA oxygenase component C family                                                                                  1\n",
       "Lentiviruses Vif protein family                                                                                           1\n",
       "Plant Mediator complex subunit 30 family                                                                                  1\n",
       "Argonaute family                                                                                                          1\n",
       "Huwentoxin-1 family, Jztx-60 subfamily                                                                                    1\n",
       "CopC family; CopD family                                                                                                  1\n",
       "Terpene synthase family, Tpsf subfamily                                                                                   1\n",
       "Adenoviridae E3-CR1 family                                                                                                1\n",
       "Huwentoxin-1 family, OAIP-2 subfamily                                                                                     1\n",
       "EspA/SseB family                                                                                                          1\n",
       "Peptidase M28 family, M28C subfamily                                                                                      1\n",
       "Rhabdoviruses glycoprotein family                                                                                         1\n",
       "Disease resistance TIR-NB-LRR-X family                                                                                    1\n",
       "Polyomaviruses capsid protein VP1 family                                                                                  1\n",
       "Name: Protein families, dtype: int64"
      ]
     },
     "execution_count": 4,
     "metadata": {},
     "output_type": "execute_result"
    }
   ],
   "source": [
    "raw['Protein families'].value_counts()"
   ]
  },
  {
   "cell_type": "code",
   "execution_count": 5,
   "metadata": {
    "collapsed": false,
    "scrolled": true
   },
   "outputs": [
    {
     "data": {
      "text/html": [
       "<div>\n",
       "<table border=\"1\" class=\"dataframe\">\n",
       "  <thead>\n",
       "    <tr style=\"text-align: right;\">\n",
       "      <th></th>\n",
       "      <th>Entry</th>\n",
       "      <th>Sequence</th>\n",
       "      <th>Protein families</th>\n",
       "    </tr>\n",
       "  </thead>\n",
       "  <tbody>\n",
       "    <tr>\n",
       "      <th>474114</th>\n",
       "      <td>P57602</td>\n",
       "      <td>MILSKPILLSAVQPSGNLTIGNYIGTMRHWSKMQNNYECLYCIADL...</td>\n",
       "      <td>Class-I aminoacyl-tRNA synthetase family</td>\n",
       "    </tr>\n",
       "    <tr>\n",
       "      <th>474115</th>\n",
       "      <td>Q891C7</td>\n",
       "      <td>MGGINMEDNKKTIFSGIQPSGNLTIGNYFGALKNWVKLQDEYNCFY...</td>\n",
       "      <td>Class-I aminoacyl-tRNA synthetase family</td>\n",
       "    </tr>\n",
       "    <tr>\n",
       "      <th>474116</th>\n",
       "      <td>P67589</td>\n",
       "      <td>MTKPIVFSGAQPSGELTIGNYMGALRQWVNMQDDYHCIYCIVDQHA...</td>\n",
       "      <td>Class-I aminoacyl-tRNA synthetase family</td>\n",
       "    </tr>\n",
       "    <tr>\n",
       "      <th>474117</th>\n",
       "      <td>Q9EYY6</td>\n",
       "      <td>MTKPIVFSGAQPSGELTIGNYMGALRQWVNMQDDYHCIYCIVDQHA...</td>\n",
       "      <td>Class-I aminoacyl-tRNA synthetase family</td>\n",
       "    </tr>\n",
       "    <tr>\n",
       "      <th>474118</th>\n",
       "      <td>Q830U2</td>\n",
       "      <td>MKTIFSGIQPSGTPTIGNYIGAMKQFIELQNEYNCYFCIVDEHAIT...</td>\n",
       "      <td>Class-I aminoacyl-tRNA synthetase family</td>\n",
       "    </tr>\n",
       "  </tbody>\n",
       "</table>\n",
       "</div>"
      ],
      "text/plain": [
       "         Entry                                           Sequence  \\\n",
       "474114  P57602  MILSKPILLSAVQPSGNLTIGNYIGTMRHWSKMQNNYECLYCIADL...   \n",
       "474115  Q891C7  MGGINMEDNKKTIFSGIQPSGNLTIGNYFGALKNWVKLQDEYNCFY...   \n",
       "474116  P67589  MTKPIVFSGAQPSGELTIGNYMGALRQWVNMQDDYHCIYCIVDQHA...   \n",
       "474117  Q9EYY6  MTKPIVFSGAQPSGELTIGNYMGALRQWVNMQDDYHCIYCIVDQHA...   \n",
       "474118  Q830U2  MKTIFSGIQPSGTPTIGNYIGAMKQFIELQNEYNCYFCIVDEHAIT...   \n",
       "\n",
       "                                Protein families  \n",
       "474114  Class-I aminoacyl-tRNA synthetase family  \n",
       "474115  Class-I aminoacyl-tRNA synthetase family  \n",
       "474116  Class-I aminoacyl-tRNA synthetase family  \n",
       "474117  Class-I aminoacyl-tRNA synthetase family  \n",
       "474118  Class-I aminoacyl-tRNA synthetase family  "
      ]
     },
     "execution_count": 5,
     "metadata": {},
     "output_type": "execute_result"
    }
   ],
   "source": [
    "class1 = raw[raw['Protein families'] == 'Class-I aminoacyl-tRNA synthetase family']\n",
    "class1.tail()"
   ]
  },
  {
   "cell_type": "code",
   "execution_count": 6,
   "metadata": {
    "collapsed": false
   },
   "outputs": [
    {
     "data": {
      "text/plain": [
       "(3592, 3)"
      ]
     },
     "execution_count": 6,
     "metadata": {},
     "output_type": "execute_result"
    }
   ],
   "source": [
    "class1.shape"
   ]
  },
  {
   "cell_type": "code",
   "execution_count": 7,
   "metadata": {
    "collapsed": false
   },
   "outputs": [
    {
     "data": {
      "text/html": [
       "<div>\n",
       "<table border=\"1\" class=\"dataframe\">\n",
       "  <thead>\n",
       "    <tr style=\"text-align: right;\">\n",
       "      <th></th>\n",
       "      <th>Entry</th>\n",
       "      <th>Sequence</th>\n",
       "      <th>Protein families</th>\n",
       "    </tr>\n",
       "  </thead>\n",
       "  <tbody>\n",
       "    <tr>\n",
       "      <th>472132</th>\n",
       "      <td>Q8P7Z2</td>\n",
       "      <td>MPMITITLPDGSRREFDAPVSVMQVAQSIGAGLAKATIAGQVDGQL...</td>\n",
       "      <td>Class-II aminoacyl-tRNA synthetase family</td>\n",
       "    </tr>\n",
       "    <tr>\n",
       "      <th>472133</th>\n",
       "      <td>Q5GXY0</td>\n",
       "      <td>MINITLPDGSRREFESPVSVMQVAQSIGAGLAKATIAGRVDGQLVD...</td>\n",
       "      <td>Class-II aminoacyl-tRNA synthetase family</td>\n",
       "    </tr>\n",
       "    <tr>\n",
       "      <th>472134</th>\n",
       "      <td>A7FHG1</td>\n",
       "      <td>MPVITLPDGSQRHYDHAVSVLDVALDIGPGLAKACIAGRVNGELVD...</td>\n",
       "      <td>Class-II aminoacyl-tRNA synthetase family</td>\n",
       "    </tr>\n",
       "    <tr>\n",
       "      <th>472135</th>\n",
       "      <td>A4TIL1</td>\n",
       "      <td>MPVITLPDGSQRHYDHAVSVLDVALDIGPGLAKACIAGRVNGELVD...</td>\n",
       "      <td>Class-II aminoacyl-tRNA synthetase family</td>\n",
       "    </tr>\n",
       "    <tr>\n",
       "      <th>543933</th>\n",
       "      <td>P38708</td>\n",
       "      <td>MPVSEAFAKLCVNEKPPAESAVAVKSLVFKPKTPKSATPVPIVVVA...</td>\n",
       "      <td>Class-II aminoacyl-tRNA synthetase family</td>\n",
       "    </tr>\n",
       "  </tbody>\n",
       "</table>\n",
       "</div>"
      ],
      "text/plain": [
       "         Entry                                           Sequence  \\\n",
       "472132  Q8P7Z2  MPMITITLPDGSRREFDAPVSVMQVAQSIGAGLAKATIAGQVDGQL...   \n",
       "472133  Q5GXY0  MINITLPDGSRREFESPVSVMQVAQSIGAGLAKATIAGRVDGQLVD...   \n",
       "472134  A7FHG1  MPVITLPDGSQRHYDHAVSVLDVALDIGPGLAKACIAGRVNGELVD...   \n",
       "472135  A4TIL1  MPVITLPDGSQRHYDHAVSVLDVALDIGPGLAKACIAGRVNGELVD...   \n",
       "543933  P38708  MPVSEAFAKLCVNEKPPAESAVAVKSLVFKPKTPKSATPVPIVVVA...   \n",
       "\n",
       "                                 Protein families  \n",
       "472132  Class-II aminoacyl-tRNA synthetase family  \n",
       "472133  Class-II aminoacyl-tRNA synthetase family  \n",
       "472134  Class-II aminoacyl-tRNA synthetase family  \n",
       "472135  Class-II aminoacyl-tRNA synthetase family  \n",
       "543933  Class-II aminoacyl-tRNA synthetase family  "
      ]
     },
     "execution_count": 7,
     "metadata": {},
     "output_type": "execute_result"
    }
   ],
   "source": [
    "class2 = raw[raw['Protein families'] == 'Class-II aminoacyl-tRNA synthetase family']\n",
    "class2.tail()"
   ]
  },
  {
   "cell_type": "code",
   "execution_count": 8,
   "metadata": {
    "collapsed": false
   },
   "outputs": [
    {
     "data": {
      "text/plain": [
       "(4476, 3)"
      ]
     },
     "execution_count": 8,
     "metadata": {},
     "output_type": "execute_result"
    }
   ],
   "source": [
    "class2.shape"
   ]
  },
  {
   "cell_type": "code",
   "execution_count": 9,
   "metadata": {
    "collapsed": false
   },
   "outputs": [],
   "source": [
    "chars = ['A', 'C', 'D', 'E', 'F', 'G', 'H', 'I', 'K', 'L', 'M', 'N', 'P', 'Q', 'R', 'S', 'T', 'V', 'W', 'X', 'Y']\n",
    "char_indices = dict((c, i) for i, c in enumerate(chars))\n",
    "indices_char = dict((i, c) for i, c in enumerate(chars))"
   ]
  },
  {
   "cell_type": "code",
   "execution_count": 10,
   "metadata": {
    "collapsed": true
   },
   "outputs": [],
   "source": [
    "maxlen = 30\n",
    "step = 3\n"
   ]
  },
  {
   "cell_type": "code",
   "execution_count": 11,
   "metadata": {
    "collapsed": true
   },
   "outputs": [],
   "source": [
    "#for i in range(0, len(text) - maxlen, step):\n",
    "#    sentences.append(text[i: i + maxlen])\n",
    "#    next_chars.append(text[i + maxlen])\n"
   ]
  },
  {
   "cell_type": "code",
   "execution_count": 12,
   "metadata": {
    "collapsed": true
   },
   "outputs": [],
   "source": [
    "def cut(seq):\n",
    "    for i in range(0, len(seq) - maxlen, step):\n",
    "        slices.append(seq[i: i + maxlen])"
   ]
  },
  {
   "cell_type": "code",
   "execution_count": 13,
   "metadata": {
    "collapsed": false
   },
   "outputs": [
    {
     "data": {
      "text/plain": [
       "668666"
      ]
     },
     "execution_count": 13,
     "metadata": {},
     "output_type": "execute_result"
    }
   ],
   "source": [
    "slices = []\n",
    "class1['Sequence'].apply(cut)\n",
    "len(slices)"
   ]
  },
  {
   "cell_type": "code",
   "execution_count": 14,
   "metadata": {
    "collapsed": false,
    "scrolled": false
   },
   "outputs": [
    {
     "data": {
      "text/html": [
       "<div>\n",
       "<table border=\"1\" class=\"dataframe\">\n",
       "  <thead>\n",
       "    <tr style=\"text-align: right;\">\n",
       "      <th></th>\n",
       "      <th>slice</th>\n",
       "    </tr>\n",
       "  </thead>\n",
       "  <tbody>\n",
       "    <tr>\n",
       "      <th>668661</th>\n",
       "      <td>RYQELLASEELDMILDEGAENARLVANKTL</td>\n",
       "    </tr>\n",
       "    <tr>\n",
       "      <th>668662</th>\n",
       "      <td>ELLASEELDMILDEGAENARLVANKTLQRM</td>\n",
       "    </tr>\n",
       "    <tr>\n",
       "      <th>668663</th>\n",
       "      <td>ASEELDMILDEGAENARLVANKTLQRMKNA</td>\n",
       "    </tr>\n",
       "    <tr>\n",
       "      <th>668664</th>\n",
       "      <td>ELDMILDEGAENARLVANKTLQRMKNAVGL</td>\n",
       "    </tr>\n",
       "    <tr>\n",
       "      <th>668665</th>\n",
       "      <td>MILDEGAENARLVANKTLQRMKNAVGLGRK</td>\n",
       "    </tr>\n",
       "  </tbody>\n",
       "</table>\n",
       "</div>"
      ],
      "text/plain": [
       "                                 slice\n",
       "668661  RYQELLASEELDMILDEGAENARLVANKTL\n",
       "668662  ELLASEELDMILDEGAENARLVANKTLQRM\n",
       "668663  ASEELDMILDEGAENARLVANKTLQRMKNA\n",
       "668664  ELDMILDEGAENARLVANKTLQRMKNAVGL\n",
       "668665  MILDEGAENARLVANKTLQRMKNAVGLGRK"
      ]
     },
     "execution_count": 14,
     "metadata": {},
     "output_type": "execute_result"
    }
   ],
   "source": [
    "df1 = pd.Series(slices).to_frame('slice')\n",
    "df1.tail()"
   ]
  },
  {
   "cell_type": "code",
   "execution_count": 15,
   "metadata": {
    "collapsed": false
   },
   "outputs": [
    {
     "data": {
      "text/html": [
       "<div>\n",
       "<table border=\"1\" class=\"dataframe\">\n",
       "  <thead>\n",
       "    <tr style=\"text-align: right;\">\n",
       "      <th></th>\n",
       "      <th>slice</th>\n",
       "      <th>label</th>\n",
       "    </tr>\n",
       "  </thead>\n",
       "  <tbody>\n",
       "    <tr>\n",
       "      <th>0</th>\n",
       "      <td>MLKLISRNAINKNKIILFRLYTTTINSSNN</td>\n",
       "      <td>0</td>\n",
       "    </tr>\n",
       "    <tr>\n",
       "      <th>1</th>\n",
       "      <td>LISRNAINKNKIILFRLYTTTINSSNNGST</td>\n",
       "      <td>0</td>\n",
       "    </tr>\n",
       "    <tr>\n",
       "      <th>2</th>\n",
       "      <td>RNAINKNKIILFRLYTTTINSSNNGSTIRE</td>\n",
       "      <td>0</td>\n",
       "    </tr>\n",
       "    <tr>\n",
       "      <th>3</th>\n",
       "      <td>INKNKIILFRLYTTTINSSNNGSTIREWKK</td>\n",
       "      <td>0</td>\n",
       "    </tr>\n",
       "    <tr>\n",
       "      <th>4</th>\n",
       "      <td>NKIILFRLYTTTINSSNNGSTIREWKKPSL</td>\n",
       "      <td>0</td>\n",
       "    </tr>\n",
       "  </tbody>\n",
       "</table>\n",
       "</div>"
      ],
      "text/plain": [
       "                            slice  label\n",
       "0  MLKLISRNAINKNKIILFRLYTTTINSSNN      0\n",
       "1  LISRNAINKNKIILFRLYTTTINSSNNGST      0\n",
       "2  RNAINKNKIILFRLYTTTINSSNNGSTIRE      0\n",
       "3  INKNKIILFRLYTTTINSSNNGSTIREWKK      0\n",
       "4  NKIILFRLYTTTINSSNNGSTIREWKKPSL      0"
      ]
     },
     "execution_count": 15,
     "metadata": {},
     "output_type": "execute_result"
    }
   ],
   "source": [
    "df1['label'] = 0\n",
    "df1.head()"
   ]
  },
  {
   "cell_type": "code",
   "execution_count": 16,
   "metadata": {
    "collapsed": false
   },
   "outputs": [
    {
     "data": {
      "text/plain": [
       "(668666, 30, 21)"
      ]
     },
     "execution_count": 16,
     "metadata": {},
     "output_type": "execute_result"
    }
   ],
   "source": [
    "X1 = np.zeros((len(slices), maxlen, len(chars)), dtype=np.bool)\n",
    "#y1 = np.zeros((len(slices), len(chars)), dtype=np.bool)\n",
    "\n",
    "for i, sequence in enumerate(slices):\n",
    "    for t, char in enumerate(sequence):\n",
    "        X1[i, t, char_indices[char]] = 1\n",
    "\n",
    "#    y[i, char_indices[next_chars[i]]] = 1\n",
    "\n",
    "y1 = df1.label.values\n",
    "\n",
    "X1.shape"
   ]
  },
  {
   "cell_type": "code",
   "execution_count": 17,
   "metadata": {
    "collapsed": false
   },
   "outputs": [
    {
     "data": {
      "text/plain": [
       "(668666,)"
      ]
     },
     "execution_count": 17,
     "metadata": {},
     "output_type": "execute_result"
    }
   ],
   "source": [
    "y1.shape"
   ]
  },
  {
   "cell_type": "code",
   "execution_count": 18,
   "metadata": {
    "collapsed": false
   },
   "outputs": [
    {
     "data": {
      "text/plain": [
       "826094"
      ]
     },
     "execution_count": 18,
     "metadata": {},
     "output_type": "execute_result"
    }
   ],
   "source": [
    "slices = []\n",
    "class2['Sequence'].apply(cut)\n",
    "len(slices)"
   ]
  },
  {
   "cell_type": "code",
   "execution_count": 19,
   "metadata": {
    "collapsed": false
   },
   "outputs": [
    {
     "data": {
      "text/html": [
       "<div>\n",
       "<table border=\"1\" class=\"dataframe\">\n",
       "  <thead>\n",
       "    <tr style=\"text-align: right;\">\n",
       "      <th></th>\n",
       "      <th>slice</th>\n",
       "    </tr>\n",
       "  </thead>\n",
       "  <tbody>\n",
       "    <tr>\n",
       "      <th>826089</th>\n",
       "      <td>DKAPSMGAKSLCIPFDQPVLNEGQKCIKCE</td>\n",
       "    </tr>\n",
       "    <tr>\n",
       "      <th>826090</th>\n",
       "      <td>PSMGAKSLCIPFDQPVLNEGQKCIKCERIA</td>\n",
       "    </tr>\n",
       "    <tr>\n",
       "      <th>826091</th>\n",
       "      <td>GAKSLCIPFDQPVLNEGQKCIKCERIAVNY</td>\n",
       "    </tr>\n",
       "    <tr>\n",
       "      <th>826092</th>\n",
       "      <td>SLCIPFDQPVLNEGQKCIKCERIAVNYCMF</td>\n",
       "    </tr>\n",
       "    <tr>\n",
       "      <th>826093</th>\n",
       "      <td>IPFDQPVLNEGQKCIKCERIAVNYCMFGRS</td>\n",
       "    </tr>\n",
       "  </tbody>\n",
       "</table>\n",
       "</div>"
      ],
      "text/plain": [
       "                                 slice\n",
       "826089  DKAPSMGAKSLCIPFDQPVLNEGQKCIKCE\n",
       "826090  PSMGAKSLCIPFDQPVLNEGQKCIKCERIA\n",
       "826091  GAKSLCIPFDQPVLNEGQKCIKCERIAVNY\n",
       "826092  SLCIPFDQPVLNEGQKCIKCERIAVNYCMF\n",
       "826093  IPFDQPVLNEGQKCIKCERIAVNYCMFGRS"
      ]
     },
     "execution_count": 19,
     "metadata": {},
     "output_type": "execute_result"
    }
   ],
   "source": [
    "df2 = pd.Series(slices).to_frame('slice')\n",
    "df2.tail()"
   ]
  },
  {
   "cell_type": "code",
   "execution_count": 20,
   "metadata": {
    "collapsed": false
   },
   "outputs": [
    {
     "data": {
      "text/html": [
       "<div>\n",
       "<table border=\"1\" class=\"dataframe\">\n",
       "  <thead>\n",
       "    <tr style=\"text-align: right;\">\n",
       "      <th></th>\n",
       "      <th>slice</th>\n",
       "      <th>label</th>\n",
       "    </tr>\n",
       "  </thead>\n",
       "  <tbody>\n",
       "    <tr>\n",
       "      <th>826089</th>\n",
       "      <td>DKAPSMGAKSLCIPFDQPVLNEGQKCIKCE</td>\n",
       "      <td>1</td>\n",
       "    </tr>\n",
       "    <tr>\n",
       "      <th>826090</th>\n",
       "      <td>PSMGAKSLCIPFDQPVLNEGQKCIKCERIA</td>\n",
       "      <td>1</td>\n",
       "    </tr>\n",
       "    <tr>\n",
       "      <th>826091</th>\n",
       "      <td>GAKSLCIPFDQPVLNEGQKCIKCERIAVNY</td>\n",
       "      <td>1</td>\n",
       "    </tr>\n",
       "    <tr>\n",
       "      <th>826092</th>\n",
       "      <td>SLCIPFDQPVLNEGQKCIKCERIAVNYCMF</td>\n",
       "      <td>1</td>\n",
       "    </tr>\n",
       "    <tr>\n",
       "      <th>826093</th>\n",
       "      <td>IPFDQPVLNEGQKCIKCERIAVNYCMFGRS</td>\n",
       "      <td>1</td>\n",
       "    </tr>\n",
       "  </tbody>\n",
       "</table>\n",
       "</div>"
      ],
      "text/plain": [
       "                                 slice  label\n",
       "826089  DKAPSMGAKSLCIPFDQPVLNEGQKCIKCE      1\n",
       "826090  PSMGAKSLCIPFDQPVLNEGQKCIKCERIA      1\n",
       "826091  GAKSLCIPFDQPVLNEGQKCIKCERIAVNY      1\n",
       "826092  SLCIPFDQPVLNEGQKCIKCERIAVNYCMF      1\n",
       "826093  IPFDQPVLNEGQKCIKCERIAVNYCMFGRS      1"
      ]
     },
     "execution_count": 20,
     "metadata": {},
     "output_type": "execute_result"
    }
   ],
   "source": [
    "df2['label'] = 1\n",
    "df2.tail()"
   ]
  },
  {
   "cell_type": "code",
   "execution_count": 21,
   "metadata": {
    "collapsed": false
   },
   "outputs": [
    {
     "data": {
      "text/plain": [
       "(826094, 30, 21)"
      ]
     },
     "execution_count": 21,
     "metadata": {},
     "output_type": "execute_result"
    }
   ],
   "source": [
    "X2 = np.zeros((len(slices), maxlen, len(chars)), dtype=np.bool)\n",
    "#y1 = np.zeros((len(slices), len(chars)), dtype=np.bool)\n",
    "\n",
    "for i, sequence in enumerate(slices):\n",
    "    for t, char in enumerate(sequence):\n",
    "        X2[i, t, char_indices[char]] = 1\n",
    "\n",
    "#    y[i, char_indices[next_chars[i]]] = 1\n",
    "\n",
    "y2 = df2.label.values\n",
    "\n",
    "X2.shape"
   ]
  },
  {
   "cell_type": "code",
   "execution_count": 22,
   "metadata": {
    "collapsed": false
   },
   "outputs": [
    {
     "data": {
      "text/plain": [
       "(826094,)"
      ]
     },
     "execution_count": 22,
     "metadata": {},
     "output_type": "execute_result"
    }
   ],
   "source": [
    "y2.shape"
   ]
  },
  {
   "cell_type": "code",
   "execution_count": 23,
   "metadata": {
    "collapsed": true
   },
   "outputs": [],
   "source": [
    "X = np.concatenate((X1, X2))"
   ]
  },
  {
   "cell_type": "code",
   "execution_count": 24,
   "metadata": {
    "collapsed": false
   },
   "outputs": [
    {
     "data": {
      "text/plain": [
       "(1494760, 30, 21)"
      ]
     },
     "execution_count": 24,
     "metadata": {},
     "output_type": "execute_result"
    }
   ],
   "source": [
    "X.shape"
   ]
  },
  {
   "cell_type": "code",
   "execution_count": 25,
   "metadata": {
    "collapsed": false
   },
   "outputs": [
    {
     "data": {
      "text/plain": [
       "(1494760, 2)"
      ]
     },
     "execution_count": 25,
     "metadata": {},
     "output_type": "execute_result"
    }
   ],
   "source": [
    "df = pd.concat([df1,df2])\n",
    "y = pd.get_dummies(df.label).values\n",
    "y.shape"
   ]
  },
  {
   "cell_type": "code",
   "execution_count": 26,
   "metadata": {
    "collapsed": true
   },
   "outputs": [],
   "source": [
    "from keras.models import Sequential\n",
    "from keras.layers import Dense, Activation\n",
    "from keras.layers import GRU, LSTM"
   ]
  },
  {
   "cell_type": "code",
   "execution_count": 27,
   "metadata": {
    "collapsed": false
   },
   "outputs": [],
   "source": [
    "model = Sequential()\n",
    "model.add(GRU(128, input_shape=(maxlen,len(chars))))\n",
    "model.add(Dense(len(chars)))\n",
    "model.add(Dense(2))\n",
    "model.add(Activation('softmax'))\n",
    "\n",
    "model.compile(optimizer='rmsprop', loss='categorical_crossentropy')"
   ]
  },
  {
   "cell_type": "code",
   "execution_count": 28,
   "metadata": {
    "collapsed": false
   },
   "outputs": [
    {
     "name": "stdout",
     "output_type": "stream",
     "text": [
      "Epoch 1/10\n",
      "1494760/1494760 [==============================] - 5668s - loss: 0.1899  \n",
      "Epoch 2/10\n",
      "1494760/1494760 [==============================] - 5542s - loss: 0.0711  \n",
      "Epoch 3/10\n",
      "1494760/1494760 [==============================] - 5454s - loss: 0.0531  \n",
      "Epoch 4/10\n",
      "1494760/1494760 [==============================] - 5435s - loss: 0.0457  \n",
      "Epoch 5/10\n",
      "1494760/1494760 [==============================] - 5414s - loss: 0.0411  \n",
      "Epoch 6/10\n",
      "1494760/1494760 [==============================] - 5660s - loss: 0.0379  \n",
      "Epoch 7/10\n",
      "1494760/1494760 [==============================] - 5578s - loss: 0.0359  \n",
      "Epoch 8/10\n",
      "1494760/1494760 [==============================] - 5568s - loss: 0.0340  \n",
      "Epoch 9/10\n",
      "1494760/1494760 [==============================] - 5553s - loss: 0.0329  \n",
      "Epoch 10/10\n",
      "1494760/1494760 [==============================] - 6175s - loss: 0.0315  \n"
     ]
    },
    {
     "data": {
      "text/plain": [
       "<keras.callbacks.History at 0x7f0a205baa90>"
      ]
     },
     "execution_count": 28,
     "metadata": {},
     "output_type": "execute_result"
    }
   ],
   "source": [
    "model.fit(X,y)"
   ]
  },
  {
   "cell_type": "code",
   "execution_count": 29,
   "metadata": {
    "collapsed": true
   },
   "outputs": [],
   "source": [
    "def test_cut(seq):\n",
    "    for i in range(1, len(seq) - maxlen, step):\n",
    "        test_slices.append(seq[i: i + maxlen])"
   ]
  },
  {
   "cell_type": "code",
   "execution_count": 30,
   "metadata": {
    "collapsed": true
   },
   "outputs": [],
   "source": [
    "test_slices = []\n",
    "class1['Sequence'].apply(test_cut)\n",
    "test_df = pd.Series(test_slices).to_frame('slice')"
   ]
  },
  {
   "cell_type": "code",
   "execution_count": 31,
   "metadata": {
    "collapsed": false
   },
   "outputs": [
    {
     "data": {
      "text/plain": [
       "(667470, 30, 21)"
      ]
     },
     "execution_count": 31,
     "metadata": {},
     "output_type": "execute_result"
    }
   ],
   "source": [
    "test = np.zeros((len(test_slices), maxlen, len(chars)), dtype=np.bool)\n",
    "#y1 = np.zeros((len(slices), len(chars)), dtype=np.bool)\n",
    "\n",
    "for i, sequence in enumerate(test_slices):\n",
    "    for t, char in enumerate(sequence):\n",
    "        test[i, t, char_indices[char]] = 1\n",
    "\n",
    "#    y[i, char_indices[next_chars[i]]] = 1\n",
    "\n",
    "\n",
    "test.shape"
   ]
  },
  {
   "cell_type": "code",
   "execution_count": 32,
   "metadata": {
    "collapsed": false
   },
   "outputs": [
    {
     "data": {
      "text/plain": [
       "array([[  9.99745786e-01,   2.54228391e-04],\n",
       "       [  9.99992013e-01,   8.01715396e-06],\n",
       "       [  9.99993682e-01,   6.34755907e-06],\n",
       "       ..., \n",
       "       [  9.99893069e-01,   1.06907028e-04],\n",
       "       [  9.85908568e-01,   1.40914777e-02],\n",
       "       [  9.97927070e-01,   2.07286165e-03]], dtype=float32)"
      ]
     },
     "execution_count": 32,
     "metadata": {},
     "output_type": "execute_result"
    }
   ],
   "source": [
    "model.predict(test)"
   ]
  }
 ],
 "metadata": {
  "anaconda-cloud": {},
  "kernelspec": {
   "display_name": "Python [conda root]",
   "language": "python",
   "name": "conda-root-py"
  },
  "language_info": {
   "codemirror_mode": {
    "name": "ipython",
    "version": 3
   },
   "file_extension": ".py",
   "mimetype": "text/x-python",
   "name": "python",
   "nbconvert_exporter": "python",
   "pygments_lexer": "ipython3",
   "version": "3.5.2"
  }
 },
 "nbformat": 4,
 "nbformat_minor": 1
}
