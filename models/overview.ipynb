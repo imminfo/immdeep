{
 "cells": [
  {
   "cell_type": "code",
   "execution_count": null,
   "metadata": {
    "collapsed": false,
    "deletable": true,
    "editable": true
   },
   "outputs": [],
   "source": [
    "%matplotlib inline\n",
    "\n",
    "import pandas as pd\n",
    "import numpy as np\n",
    "import seaborn as sns\n",
    "import matplotlib\n",
    "import matplotlib.pyplot as plt\n",
    "\n",
    "import os\n",
    "\n",
    "sns.set_style(\"whitegrid\") "
   ]
  },
  {
   "cell_type": "markdown",
   "metadata": {
    "deletable": true,
    "editable": true
   },
   "source": [
    "# Models"
   ]
  },
  {
   "cell_type": "code",
   "execution_count": null,
   "metadata": {
    "collapsed": false,
    "deletable": true,
    "editable": true
   },
   "outputs": [],
   "source": [
    "n_app = 1\n",
    "n_models = 3\n",
    "\n",
    "\n",
    "folders = [\"gru.64.64.64_clf\", \"gru.64.64_clf\", \"bigru.64.64.ave_clf\", \"bigru.64.64.64.ave_clf\"]\n",
    "\n",
    "history_files = [\"val_top\", \"val_med\", \"val_low\", \"val_non\", \"val_put\"]\n",
    "suffix = [\"loss\", \"acc\"][1]\n",
    "\n",
    "\n",
    "metrics = {x:{} for x in history_files}\n",
    "for hs in history_files:\n",
    "    models = {}\n",
    "    approach = {}\n",
    "    for fold in folders:\n",
    "        if fold.split(\"_\")[0] not in models:\n",
    "            models[fold.split(\"_\")[0]] = {}\n",
    "        if fold.split(\"_\")[1] not in approach:\n",
    "            approach[fold.split(\"_\")[1]] = {}\n",
    "        with open(fold + \"/history.\" + suffix + \".\" + hs + \".txt\") as inp:\n",
    "            data = [float(x) for x in inp.readlines()]\n",
    "            models[fold.split(\"_\")[0]][fold.split(\"_\")[1]] = data\n",
    "            approach[fold.split(\"_\")[1]][fold.split(\"_\")[0]] = data\n",
    "    metrics[hs] = (models, approach)"
   ]
  },
  {
   "cell_type": "code",
   "execution_count": null,
   "metadata": {
    "collapsed": false,
    "deletable": true,
    "editable": true
   },
   "outputs": [],
   "source": [
    "fig = plt.figure(figsize=(18, 12))\n",
    "\n",
    "ax = []\n",
    "for i in range(5):\n",
    "    ax.append([fig.add_subplot(5, n_app,n_app*i+1)])\n",
    "    for j in range(1,n_app):\n",
    "        ax[-1].append(fig.add_subplot(5, n_app, n_app*i + j + 1, sharey=ax[-1][-1]))\n",
    "        \n",
    "fig.tight_layout(pad=0.1)\n",
    "\n",
    "for r, hs in enumerate(history_files):\n",
    "    _, approach = metrics[hs]\n",
    "    for c, app in enumerate(approach):\n",
    "        if c == 0: ax[r][c].set_ylabel(hs.split(\"_\")[1], fontsize=20)\n",
    "        for subkey in approach[app]:\n",
    "            ax[r][c].plot(approach[app][subkey], label = subkey.upper())\n",
    "        if r != 4:\n",
    "            ax[r][c].set_xticklabels([])\n",
    "        if r == 0:\n",
    "            ax[r][c].set_title(app, fontsize=20)\n",
    "    ax[0][0].legend()\n",
    "    \n",
    "\n",
    "# plt.gcf().subplots_adjust(bottom=0.1, top=.97, left=.05)\n",
    "# fig.savefig(\"clf_test1.png\", dpi=300, pad_inches=-1)"
   ]
  },
  {
   "cell_type": "code",
   "execution_count": null,
   "metadata": {
    "collapsed": false,
    "deletable": true,
    "editable": true
   },
   "outputs": [],
   "source": [
    "fig = plt.figure(figsize=(18, 12))\n",
    "ax = []\n",
    "\n",
    "for i in range(5):\n",
    "    ax.append([fig.add_subplot(5, n_models, n_models*i+1)])\n",
    "    for j in range(1,n_models):\n",
    "        ax[-1].append(fig.add_subplot(5, n_models, n_models*i + j + 1, sharey=ax[-1][-1]))\n",
    "        \n",
    "fig.tight_layout(pad=0.1)\n",
    "\n",
    "for r, hs in enumerate(history_files):\n",
    "    models, _ = metrics[hs]\n",
    "    for c, mod in enumerate(models):\n",
    "        if c == 0: ax[r][c].set_ylabel(hs.split(\"_\")[1], fontsize=20)\n",
    "        for subkey in models[mod]:\n",
    "            ax[r][c].plot(models[mod][subkey], label = subkey)\n",
    "        if r != 4:\n",
    "            ax[r][c].set_xticklabels([])\n",
    "        if r == 0:\n",
    "            ax[r][c].set_title(mod.upper(), fontsize=20)\n",
    "    ax[1][0].legend()\n",
    "    \n",
    "# plt.gcf().subplots_adjust(bottom=0.1, top=.97, left=.05)\n",
    "# fig.savefig(\"clf_test2.png\", dpi=300, pad_inches=-1)"
   ]
  },
  {
   "cell_type": "code",
   "execution_count": null,
   "metadata": {
    "collapsed": true
   },
   "outputs": [],
   "source": []
  },
  {
   "cell_type": "code",
   "execution_count": null,
   "metadata": {
    "collapsed": true
   },
   "outputs": [],
   "source": []
  },
  {
   "cell_type": "code",
   "execution_count": null,
   "metadata": {
    "collapsed": true
   },
   "outputs": [],
   "source": []
  }
 ],
 "metadata": {
  "kernelspec": {
   "display_name": "Python 3",
   "language": "python",
   "name": "python3"
  },
  "language_info": {
   "codemirror_mode": {
    "name": "ipython",
    "version": 3
   },
   "file_extension": ".py",
   "mimetype": "text/x-python",
   "name": "python",
   "nbconvert_exporter": "python",
   "pygments_lexer": "ipython3",
   "version": "3.6.0"
  }
 },
 "nbformat": 4,
 "nbformat_minor": 2
}
