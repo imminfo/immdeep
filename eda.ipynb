{
 "cells": [
  {
   "cell_type": "code",
   "execution_count": 15,
   "metadata": {
    "collapsed": false
   },
   "outputs": [],
   "source": [
    "%matplotlib inline\n",
    "\n",
    "from __future__ import print_function\n",
    "import numpy as np\n",
    "import pandas as pd\n",
    "import seaborn as sns"
   ]
  },
  {
   "cell_type": "code",
   "execution_count": 18,
   "metadata": {
    "collapsed": false
   },
   "outputs": [],
   "source": [
    "R_exp_data = pd.read_table(\"azh.txt\")\n",
    "R_exp_data = R_exp_data[map(lambda x: not (\"*\" in x or \"~\" in x), R_exp_data[\"CDR3.amino.acid.sequence\"])]\n",
    "R_exp = R_exp_data[\"CDR3.amino.acid.sequence\"]\n",
    "R_prop = R_exp_data[\"Umi.proportion\"]\n",
    "R_count = R_exp_data[\"Umi.count\"]"
   ]
  },
  {
   "cell_type": "code",
   "execution_count": 13,
   "metadata": {
    "collapsed": false
   },
   "outputs": [
    {
     "data": {
      "text/plain": [
       "300420"
      ]
     },
     "execution_count": 13,
     "metadata": {},
     "output_type": "execute_result"
    }
   ],
   "source": [
    "len(R_exp[map(lambda x: not (\"*\" in x or \"~\" in x), R_exp)])"
   ]
  },
  {
   "cell_type": "code",
   "execution_count": 10,
   "metadata": {
    "collapsed": false
   },
   "outputs": [
    {
     "data": {
      "text/plain": [
       "<matplotlib.axes._subplots.AxesSubplot at 0x7f3bcd69e450>"
      ]
     },
     "execution_count": 10,
     "metadata": {},
     "output_type": "execute_result"
    },
    {
     "data": {
      "image/png": "[encoded data removed]",
      "text/plain": [
       "<matplotlib.figure.Figure at 0x7f3bd09acc90>"
      ]
     },
     "metadata": {},
     "output_type": "display_data"
    }
   ],
   "source": [
    "sns.kdeplot(np.log(R_prop))"
   ]
  },
  {
   "cell_type": "code",
   "execution_count": 22,
   "metadata": {
    "collapsed": false
   },
   "outputs": [
    {
     "data": {
      "text/plain": [
       "0        -5.074468\n",
       "1        -5.227863\n",
       "2        -5.504437\n",
       "3        -6.253048\n",
       "4        -6.333910\n",
       "5        -6.383073\n",
       "6        -6.378604\n",
       "7        -6.517085\n",
       "8        -6.527381\n",
       "9        -6.608179\n",
       "10       -6.615216\n",
       "11       -6.714630\n",
       "12       -6.949149\n",
       "13       -6.921910\n",
       "14       -6.923831\n",
       "15       -7.044262\n",
       "16       -7.171307\n",
       "17       -7.168847\n",
       "18       -7.171307\n",
       "19       -7.219235\n",
       "20       -7.334116\n",
       "21       -7.441088\n",
       "22       -7.406219\n",
       "23       -7.437867\n",
       "24       -7.450812\n",
       "25       -7.473877\n",
       "26       -7.579238\n",
       "27       -7.441088\n",
       "28       -7.660207\n",
       "29       -7.722339\n",
       "            ...   \n",
       "346127        -inf\n",
       "346128        -inf\n",
       "346129        -inf\n",
       "346130        -inf\n",
       "346131        -inf\n",
       "346132        -inf\n",
       "346145        -inf\n",
       "346146        -inf\n",
       "346147        -inf\n",
       "346148        -inf\n",
       "346149        -inf\n",
       "346150        -inf\n",
       "346151        -inf\n",
       "346152        -inf\n",
       "346153        -inf\n",
       "346154        -inf\n",
       "346155        -inf\n",
       "346156        -inf\n",
       "346157        -inf\n",
       "346158        -inf\n",
       "346159        -inf\n",
       "346160        -inf\n",
       "346161        -inf\n",
       "346162        -inf\n",
       "346163        -inf\n",
       "346164        -inf\n",
       "346165        -inf\n",
       "346166        -inf\n",
       "346167        -inf\n",
       "346168        -inf\n",
       "Name: Umi.proportion, dtype: float64"
      ]
     },
     "execution_count": 22,
     "metadata": {},
     "output_type": "execute_result"
    }
   ],
   "source": [
    "np.log(R_prop)"
   ]
  },
  {
   "cell_type": "code",
   "execution_count": null,
   "metadata": {
    "collapsed": true
   },
   "outputs": [],
   "source": []
  }
 ],
 "metadata": {
  "anaconda-cloud": {},
  "kernelspec": {
   "display_name": "Python [conda root]",
   "language": "python",
   "name": "conda-root-py"
  },
  "language_info": {
   "codemirror_mode": {
    "name": "ipython",
    "version": 2
   },
   "file_extension": ".py",
   "mimetype": "text/x-python",
   "name": "python",
   "nbconvert_exporter": "python",
   "pygments_lexer": "ipython2",
   "version": "2.7.12"
  }
 },
 "nbformat": 4,
 "nbformat_minor": 1
}
