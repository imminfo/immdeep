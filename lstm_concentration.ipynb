{
 "cells": [
  {
   "cell_type": "code",
   "execution_count": 1,
   "metadata": {
    "collapsed": true
   },
   "outputs": [],
   "source": [
    "import pandas as pd\n",
    "import matplotlib.pyplot as plt\n",
    "import numpy as np\n",
    "%matplotlib inline"
   ]
  },
  {
   "cell_type": "code",
   "execution_count": 13,
   "metadata": {
    "collapsed": false,
    "scrolled": true
   },
   "outputs": [
    {
     "data": {
      "text/html": [
       "<div>\n",
       "<table border=\"1\" class=\"dataframe\">\n",
       "  <thead>\n",
       "    <tr style=\"text-align: right;\">\n",
       "      <th></th>\n",
       "      <th>Umi.count</th>\n",
       "      <th>Umi.proportion</th>\n",
       "      <th>Read.count</th>\n",
       "      <th>Read.proportion</th>\n",
       "      <th>CDR3.nucleotide.sequence</th>\n",
       "      <th>CDR3.amino.acid.sequence</th>\n",
       "      <th>V.gene</th>\n",
       "      <th>J.gene</th>\n",
       "      <th>D.gene</th>\n",
       "      <th>V.end</th>\n",
       "      <th>J.start</th>\n",
       "      <th>D5.end</th>\n",
       "      <th>D3.end</th>\n",
       "      <th>VD.insertions</th>\n",
       "      <th>DJ.insertions</th>\n",
       "      <th>Total.insertions</th>\n",
       "      <th>tf</th>\n",
       "    </tr>\n",
       "  </thead>\n",
       "  <tbody>\n",
       "    <tr>\n",
       "      <th>346164</th>\n",
       "      <td>0</td>\n",
       "      <td>0.0</td>\n",
       "      <td>1</td>\n",
       "      <td>4.329235e-07</td>\n",
       "      <td>TGTGCAGCAAAGATCTTT</td>\n",
       "      <td>CAAKIF</td>\n",
       "      <td>TRAV29/DV5</td>\n",
       "      <td>TRAJ30</td>\n",
       "      <td>NaN</td>\n",
       "      <td>9</td>\n",
       "      <td>12</td>\n",
       "      <td>-1</td>\n",
       "      <td>-1</td>\n",
       "      <td>-1</td>\n",
       "      <td>-1</td>\n",
       "      <td>2</td>\n",
       "      <td>True</td>\n",
       "    </tr>\n",
       "    <tr>\n",
       "      <th>346165</th>\n",
       "      <td>0</td>\n",
       "      <td>0.0</td>\n",
       "      <td>1</td>\n",
       "      <td>4.329235e-07</td>\n",
       "      <td>TGCCTGAGGATCATGTTT</td>\n",
       "      <td>CLRIMF</td>\n",
       "      <td>TRAV4</td>\n",
       "      <td>TRAJ31</td>\n",
       "      <td>NaN</td>\n",
       "      <td>4</td>\n",
       "      <td>10</td>\n",
       "      <td>-1</td>\n",
       "      <td>-1</td>\n",
       "      <td>-1</td>\n",
       "      <td>-1</td>\n",
       "      <td>5</td>\n",
       "      <td>True</td>\n",
       "    </tr>\n",
       "    <tr>\n",
       "      <th>346166</th>\n",
       "      <td>0</td>\n",
       "      <td>0.0</td>\n",
       "      <td>1</td>\n",
       "      <td>4.329235e-07</td>\n",
       "      <td>TGCCTGAAATTAACCTTT</td>\n",
       "      <td>CLKLTF</td>\n",
       "      <td>TRAV4</td>\n",
       "      <td>TRAJ48</td>\n",
       "      <td>NaN</td>\n",
       "      <td>4</td>\n",
       "      <td>5</td>\n",
       "      <td>-1</td>\n",
       "      <td>-1</td>\n",
       "      <td>-1</td>\n",
       "      <td>-1</td>\n",
       "      <td>0</td>\n",
       "      <td>True</td>\n",
       "    </tr>\n",
       "    <tr>\n",
       "      <th>346167</th>\n",
       "      <td>0</td>\n",
       "      <td>0.0</td>\n",
       "      <td>1</td>\n",
       "      <td>4.329235e-07</td>\n",
       "      <td>TGCGGGGAGTTCTATTTT</td>\n",
       "      <td>CGEFYF</td>\n",
       "      <td>TRAV30</td>\n",
       "      <td>TRAJ49</td>\n",
       "      <td>NaN</td>\n",
       "      <td>5</td>\n",
       "      <td>7</td>\n",
       "      <td>-1</td>\n",
       "      <td>-1</td>\n",
       "      <td>-1</td>\n",
       "      <td>-1</td>\n",
       "      <td>1</td>\n",
       "      <td>True</td>\n",
       "    </tr>\n",
       "    <tr>\n",
       "      <th>346168</th>\n",
       "      <td>0</td>\n",
       "      <td>0.0</td>\n",
       "      <td>1</td>\n",
       "      <td>4.329235e-07</td>\n",
       "      <td>TGCATCGTCAGAGTCTTT</td>\n",
       "      <td>CIVRVF</td>\n",
       "      <td>TRAV26-1</td>\n",
       "      <td>TRAJ26</td>\n",
       "      <td>NaN</td>\n",
       "      <td>13</td>\n",
       "      <td>14</td>\n",
       "      <td>-1</td>\n",
       "      <td>-1</td>\n",
       "      <td>-1</td>\n",
       "      <td>-1</td>\n",
       "      <td>0</td>\n",
       "      <td>True</td>\n",
       "    </tr>\n",
       "  </tbody>\n",
       "</table>\n",
       "</div>"
      ],
      "text/plain": [
       "        Umi.count  Umi.proportion  Read.count  Read.proportion  \\\n",
       "346164          0             0.0           1     4.329235e-07   \n",
       "346165          0             0.0           1     4.329235e-07   \n",
       "346166          0             0.0           1     4.329235e-07   \n",
       "346167          0             0.0           1     4.329235e-07   \n",
       "346168          0             0.0           1     4.329235e-07   \n",
       "\n",
       "       CDR3.nucleotide.sequence CDR3.amino.acid.sequence      V.gene  J.gene  \\\n",
       "346164       TGTGCAGCAAAGATCTTT                   CAAKIF  TRAV29/DV5  TRAJ30   \n",
       "346165       TGCCTGAGGATCATGTTT                   CLRIMF       TRAV4  TRAJ31   \n",
       "346166       TGCCTGAAATTAACCTTT                   CLKLTF       TRAV4  TRAJ48   \n",
       "346167       TGCGGGGAGTTCTATTTT                   CGEFYF      TRAV30  TRAJ49   \n",
       "346168       TGCATCGTCAGAGTCTTT                   CIVRVF    TRAV26-1  TRAJ26   \n",
       "\n",
       "        D.gene  V.end  J.start  D5.end  D3.end  VD.insertions  DJ.insertions  \\\n",
       "346164     NaN      9       12      -1      -1             -1             -1   \n",
       "346165     NaN      4       10      -1      -1             -1             -1   \n",
       "346166     NaN      4        5      -1      -1             -1             -1   \n",
       "346167     NaN      5        7      -1      -1             -1             -1   \n",
       "346168     NaN     13       14      -1      -1             -1             -1   \n",
       "\n",
       "        Total.insertions    tf  \n",
       "346164                 2  True  \n",
       "346165                 5  True  \n",
       "346166                 0  True  \n",
       "346167                 1  True  \n",
       "346168                 0  True  "
      ]
     },
     "execution_count": 13,
     "metadata": {},
     "output_type": "execute_result"
    }
   ],
   "source": [
    "df = pd.read_table('azh.txt')\n",
    "df['tf'] = df[\"CDR3.amino.acid.sequence\"].apply(lambda x: not (\"*\" in x or \"~\" in x))\n",
    "df = df[df['tf'] == True]\n",
    "df.tail()"
   ]
  },
  {
   "cell_type": "code",
   "execution_count": 3,
   "metadata": {
    "collapsed": false
   },
   "outputs": [
    {
     "data": {
      "text/plain": [
       "22"
      ]
     },
     "execution_count": 3,
     "metadata": {},
     "output_type": "execute_result"
    }
   ],
   "source": [
    "max(df['CDR3.amino.acid.sequence'].apply(len))"
   ]
  },
  {
   "cell_type": "code",
   "execution_count": 4,
   "metadata": {
    "collapsed": true
   },
   "outputs": [],
   "source": [
    "chars = ['A', 'C', 'D', 'E', 'F', 'G', 'H', 'I', 'K', 'L', 'M', 'N', 'P', 'Q', 'R', 'S', 'T', 'V', 'W', 'X', 'Y']\n",
    "char_indices = dict((c, i) for i, c in enumerate(chars))\n",
    "indices_char = dict((i, c) for i, c in enumerate(chars))\n",
    "\n",
    "maxlen = 22"
   ]
  },
  {
   "cell_type": "code",
   "execution_count": 5,
   "metadata": {
    "collapsed": true
   },
   "outputs": [],
   "source": [
    "def vectorization(data):\n",
    "    prots = data['CDR3.amino.acid.sequence']\n",
    "    X = np.zeros((len(prots), maxlen, len(chars)), dtype=np.bool)\n",
    "    for i, sequence in enumerate(prots):\n",
    "        for t, char in enumerate(sequence):\n",
    "            X[i, t, char_indices[char]] = 1\n",
    "    return np.fliplr(X)"
   ]
  },
  {
   "cell_type": "code",
   "execution_count": 19,
   "metadata": {
    "collapsed": false
   },
   "outputs": [],
   "source": [
    "X_base = vectorization(df[df['Umi.count'] > 4])\n",
    "y_base = - np.log(np.array(df[df['Umi.count'] > 4]['Umi.proportion']))\n",
    "sample = df[df['Umi.count'] <= 4]\n",
    "X_little = vectorization(sample[sample['Umi.count'] > 0])\n",
    "y_little = - np.log(np.array(sample[sample['Umi.count'] > 0]['Umi.proportion']))\n",
    "X_zero = vectorization(df[df['Umi.count'] == 0])\n",
    "y_zero = np.zeros(44349)"
   ]
  },
  {
   "cell_type": "code",
   "execution_count": 20,
   "metadata": {
    "collapsed": true
   },
   "outputs": [],
   "source": [
    "def generator(X_1, X_2, X_0,y_1,y_2,y_0):\n",
    "    while 1:\n",
    "        for i in range(10):\n",
    "            yield (np.concatenate([X_1[i*len(X_1)/10:(i+1)*len(X_1)/10], X_2[i*500:(i+1)*500], X_0[i*100:(i+1)*100]]), np.concatenate([y_1[i*len(y_1)/10:(i+1)*len(y_1)/10], y_2[i*500:(i+1)*500], y_0[i*100:(i+1)*100]]))"
   ]
  },
  {
   "cell_type": "code",
   "execution_count": 61,
   "metadata": {
    "collapsed": false
   },
   "outputs": [
    {
     "data": {
      "text/plain": [
       "(11699, 22, 21)"
      ]
     },
     "execution_count": 61,
     "metadata": {},
     "output_type": "execute_result"
    }
   ],
   "source": [
    "np.concatenate([X_base[5:25],X_little[3:13], X_zero[4:87]]).shape\n",
    "\n",
    "X_base.shape"
   ]
  },
  {
   "cell_type": "code",
   "execution_count": 8,
   "metadata": {
    "collapsed": false
   },
   "outputs": [
    {
     "name": "stderr",
     "output_type": "stream",
     "text": [
      "Using Theano backend.\n",
      "Using gpu device 1: Tesla K20Xm (CNMeM is disabled, cuDNN 5105)\n",
      "/home/cerebro/anaconda3/lib/python3.5/site-packages/theano/sandbox/cuda/__init__.py:600: UserWarning: Your cuDNN version is more recent than the one Theano officially supports. If you see any problems, try updating Theano or downgrading cuDNN to version 5.\n",
      "  warnings.warn(warn)\n"
     ]
    }
   ],
   "source": [
    "from keras.layers import Dense, LSTM, Merge, Activation, BatchNormalization\n",
    "from keras.models import Sequential\n",
    "from keras.optimizers import RMSprop"
   ]
  },
  {
   "cell_type": "code",
   "execution_count": 9,
   "metadata": {
    "collapsed": false
   },
   "outputs": [],
   "source": [
    "model = Sequential()\n",
    "    # Dropouts + BN works quite well. Without dropouts the learning process is faster\n",
    "    # but I'm quite sure that this is due to the overtraining.\n",
    "model.add(LSTM(128, dropout_W = .2, dropout_U = .2, input_shape=(maxlen, len(chars))))\n",
    "model.add(BatchNormalization())\n",
    "    # Don't use L2 regularization ActivityRegularizer(l2 = .3) on the output Dense layer - \n",
    "    # it pushes the output to too strict boundaries, so the output will be always in [0,1]\n",
    "model.add(Dense(1))\n",
    "    # Log-transorm the data and multiple by \"-1\" so it's possible to use ReLU instead of linear activations.\n",
    "model.add(Activation('relu'))\n",
    "\n",
    "    # Very small learning rate because with the higher rate nans start to occur.\n",
    "optimizer = RMSprop(lr=0.000003)\n",
    "    # Use MSLE instead of MSE because in case of log transformation of our data\n",
    "    # the model will pay too much attention to optimization of differences for small\n",
    "    # receptors, which has large negative (= large absolute value) values.\n",
    "model.compile(loss='mse', optimizer=optimizer)\n"
   ]
  },
  {
   "cell_type": "code",
   "execution_count": 22,
   "metadata": {
    "collapsed": false,
    "scrolled": true
   },
   "outputs": [
    {
     "name": "stderr",
     "output_type": "stream",
     "text": [
      "/home/cerebro/anaconda3/lib/python3.5/site-packages/ipykernel/__main__.py:4: VisibleDeprecationWarning: using a non-integer number instead of an integer will result in an error in the future\n"
     ]
    },
    {
     "name": "stdout",
     "output_type": "stream",
     "text": [
      "Epoch 1/10\n",
      "8849/7080 [=====================================] - 1s - loss: 102.3029"
     ]
    },
    {
     "name": "stderr",
     "output_type": "stream",
     "text": [
      "/home/cerebro/anaconda3/lib/python3.5/site-packages/keras/engine/training.py:1470: UserWarning: Epoch comprised more than `samples_per_epoch` samples, which might affect learning results. Set `samples_per_epoch` correctly to avoid this warning.\n",
      "  warnings.warn('Epoch comprised more than '\n"
     ]
    },
    {
     "name": "stdout",
     "output_type": "stream",
     "text": [
      "\n",
      "Epoch 2/10\n",
      "7080/7080 [==============================] - 0s - loss: 114.8603     \n",
      "Epoch 3/10\n",
      "8849/7080 [=====================================] - 1s - loss: 103.6812\n",
      "Epoch 4/10\n",
      "7080/7080 [==============================] - 0s - loss: 113.3363     \n",
      "Epoch 5/10\n",
      "8849/7080 [=====================================] - 1s - loss: 105.3337\n",
      "Epoch 6/10\n",
      "7080/7080 [==============================] - 0s - loss: 111.6118     \n",
      "Epoch 7/10\n",
      "8849/7080 [=====================================] - 1s - loss: 107.4360\n",
      "Epoch 8/10\n",
      "7080/7080 [==============================] - 0s - loss: 109.0167     \n",
      "Epoch 9/10\n",
      "7080/7080 [==============================] - 0s - loss: 115.9136     \n",
      "Epoch 10/10\n",
      "8849/7080 [=====================================] - 1s - loss: 102.1504\n"
     ]
    },
    {
     "data": {
      "text/plain": [
       "<keras.callbacks.History at 0x7f3180da5128>"
      ]
     },
     "execution_count": 22,
     "metadata": {},
     "output_type": "execute_result"
    }
   ],
   "source": [
    "model.fit_generator(generator(X_base, X_little, X_zero,y_base,y_little,y_zero), 7080, 10)"
   ]
  }
 ],
 "metadata": {
  "anaconda-cloud": {},
  "kernelspec": {
   "display_name": "Python [conda root]",
   "language": "python",
   "name": "conda-root-py"
  },
  "language_info": {
   "codemirror_mode": {
    "name": "ipython",
    "version": 3
   },
   "file_extension": ".py",
   "mimetype": "text/x-python",
   "name": "python",
   "nbconvert_exporter": "python",
   "pygments_lexer": "ipython3",
   "version": "3.5.2"
  }
 },
 "nbformat": 4,
 "nbformat_minor": 1
}
